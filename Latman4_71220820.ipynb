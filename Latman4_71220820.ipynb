{
 "cells": [
  {
   "cell_type": "markdown",
   "id": "d9932184-a99f-4be8-b0e1-7a52dfffdfd7",
   "metadata": {},
   "source": [
    "# "
   ]
  },
  {
   "cell_type": "code",
   "execution_count": 22,
   "id": "1fa18666-0e84-4fa1-b8e9-bd546e66aa89",
   "metadata": {},
   "outputs": [
    {
     "name": "stdin",
     "output_type": "stream",
     "text": [
      "Masukkan suhu tubuh:  5\n"
     ]
    },
    {
     "name": "stdout",
     "output_type": "stream",
     "text": [
      "Anda tidak demam\n"
     ]
    }
   ],
   "source": [
    "#soal 1 ( 4.1 )\n",
    "try:\n",
    "    suhu = int(input(\"Masukkan suhu tubuh: \"))\n",
    "    if suhu >= 38:\n",
    "        print(\"Anda demam\")\n",
    "    elif suhu == 46 :\n",
    "        print(\"Suhu tidak valid, masukkan suhu antara 36-45 derajat\")\n",
    "    else:\n",
    "        print(\"Anda tidak demam\")\n",
    "\n",
    "except ValueError:\n",
    "    print(\"Inputan suhu harus berupa angka\")\n"
   ]
  },
  {
   "cell_type": "code",
   "execution_count": 24,
   "id": "0d3aacaf-7a4a-4cff-acf2-ca4e76341167",
   "metadata": {},
   "outputs": [
    {
     "name": "stdin",
     "output_type": "stream",
     "text": [
      "Masukkan suatu bilangan:  -10\n"
     ]
    },
    {
     "name": "stdout",
     "output_type": "stream",
     "text": [
      "Negatif\n"
     ]
    }
   ],
   "source": [
    "#soal 1 ( 4.2 )\n",
    "try :\n",
    "    bilangan = int(input(\"Masukkan suatu bilangan: \"))\n",
    "    if bilangan > 0:\n",
    "        print(\"Positif\")\n",
    "    elif bilangan < 0:\n",
    "        print(\"Negatif\")\n",
    "    elif bilangan == 0:\n",
    "        print(\"Nol\")\n",
    "except:\n",
    "    print(\"Inputan harus angka dan bilangan bulat\")"
   ]
  },
  {
   "cell_type": "code",
   "execution_count": 26,
   "id": "80b441d0-484b-415d-9922-60b8806a5ec2",
   "metadata": {},
   "outputs": [
    {
     "name": "stdin",
     "output_type": "stream",
     "text": [
      "Masukkan bilangan pertama:  8\n",
      "Masukkan bilangan kedua:  5\n",
      "Masukkan bilangan ketiga:  3\n"
     ]
    },
    {
     "name": "stdout",
     "output_type": "stream",
     "text": [
      "Terbesar:  8\n"
     ]
    }
   ],
   "source": [
    "#soal 1 ( 4.3 )\n",
    "# input a, b dan c\n",
    "try :\n",
    "    a = int(input(\"Masukkan bilangan pertama: \"))\n",
    "    b = int(input(\"Masukkan bilangan kedua: \"))\n",
    "    c = int(input(\"Masukkan bilangan ketiga: \"))\n",
    "\n",
    "    # secara berurutan tulis kriteria untuk a, b, dan c\n",
    "    if a > b and a > c:\n",
    "        print(\"Terbesar: \", a)\n",
    "    elif b > a and b > c:\n",
    "        print(\"Terbesar: \", b)\n",
    "    elif c > a and c > b:\n",
    "        print(\"Terbesar: \", c)\n",
    "    else :\n",
    "        print(\"Terdapat lebih dari satu bilangan yang sama besar\")\n",
    "except:\n",
    "    print(\"Inputan harus angka dan bilangan bulat\")"
   ]
  },
  {
   "cell_type": "code",
   "execution_count": 28,
   "id": "30b84010-ded9-4acf-8c32-8eea7a39c81d",
   "metadata": {},
   "outputs": [
    {
     "name": "stdin",
     "output_type": "stream",
     "text": [
      "Masukkan suatu bilangan:  15\n"
     ]
    },
    {
     "name": "stdout",
     "output_type": "stream",
     "text": [
      "Positif\n"
     ]
    }
   ],
   "source": [
    "#soal 4.2\n",
    "bilangan = int(input(\"Masukkan suatu bilangan: \"))\n",
    "print(\"Positif\" if bilangan > 0 else \"Negatif\" if bilangan <0 else \"Nol\")"
   ]
  },
  {
   "cell_type": "code",
   "execution_count": 12,
   "id": "e32bb697-e88e-43a0-aaf0-489b188202bd",
   "metadata": {},
   "outputs": [
    {
     "name": "stdin",
     "output_type": "stream",
     "text": [
      "Masukkan bulan (1-12) : 6\n"
     ]
    },
    {
     "name": "stdout",
     "output_type": "stream",
     "text": [
      "Jumlah hari: 30\n"
     ]
    }
   ],
   "source": [
    "# soal 4.3\n",
    "bulan  = int(input(\"Masukkan bulan (1-12) :\"))\n",
    "if bulan in [1,3,5,7,10,12]:\n",
    "    print(\"Jumlah hari 31\")\n",
    "elif bulan in [4,6,8,9,11]:\n",
    "    print(\"Jumlah hari: 30\")\n",
    "elif bulan == 2:\n",
    "    print(\"Jumlah hari: 28 atau 29 (Tahun kabisat) \")\n",
    "else:\n",
    "    print(\"Bulan yang diinput tidak valid\")"
   ]
  },
  {
   "cell_type": "code",
   "execution_count": 18,
   "id": "4e02a387-554b-4637-a46d-1a9d53db5922",
   "metadata": {},
   "outputs": [
    {
     "name": "stdin",
     "output_type": "stream",
     "text": [
      "Masukkan bilangan 1 : 8\n",
      "Masukkan bilangan 2 : 8\n",
      "Masukkan bilangan 3 : 9\n"
     ]
    },
    {
     "name": "stdout",
     "output_type": "stream",
     "text": [
      "2 sisi sama\n"
     ]
    }
   ],
   "source": [
    "# soal 4.4\n",
    "a = int(input(\"Masukkan bilangan 1 :\"))\n",
    "b = int(input(\"Masukkan bilangan 2 :\"))\n",
    "c = int(input(\"Masukkan bilangan 3 :\"))\n",
    "if a == b == c :\n",
    "    print(\"3 sisi sama\")\n",
    "elif  a == b or b ==c or c==a:\n",
    "    print(\"2 sisi sama\")\n",
    "else : \n",
    "    print(\"tidak ada sisi yang sama\")"
   ]
  },
  {
   "cell_type": "code",
   "execution_count": null,
   "id": "48dcd17f-4e95-4289-a74d-ae5f40e8177d",
   "metadata": {},
   "outputs": [],
   "source": []
  }
 ],
 "metadata": {
  "kernelspec": {
   "display_name": "Python [conda env:base] *",
   "language": "python",
   "name": "conda-base-py"
  },
  "language_info": {
   "codemirror_mode": {
    "name": "ipython",
    "version": 3
   },
   "file_extension": ".py",
   "mimetype": "text/x-python",
   "name": "python",
   "nbconvert_exporter": "python",
   "pygments_lexer": "ipython3",
   "version": "3.12.7"
  }
 },
 "nbformat": 4,
 "nbformat_minor": 5
}
